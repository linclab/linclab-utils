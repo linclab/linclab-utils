{
  "nbformat": 4,
  "nbformat_minor": 0,
  "metadata": {
    "colab": {
      "name": "plotting_tips.ipynb",
      "provenance": [],
      "collapsed_sections": [
        "xYtRTOOM3pS0"
      ]
    },
    "kernelspec": {
      "name": "python3",
      "display_name": "Python 3"
    },
    "language_info": {
      "name": "python"
    }
  },
  "cells": [
    {
      "cell_type": "markdown",
      "metadata": {
        "id": "AwT1C5M-1DmP"
      },
      "source": [
        "# Tips for developing reliable, consistent, and efficient analysis and plotting practices\n",
        "- Always save your source data (e.g., to json, pickle, h5, csv).\n",
        "- Record as many mutable analysis parameters as possible (e.g., using dictionaries and/or named tuples).\n",
        "- Plot from saved data files."
      ]
    },
    {
      "cell_type": "code",
      "metadata": {
        "id": "D69aIuYdWFuG"
      },
      "source": [
        "from collections import namedtuple\n",
        "import json\n",
        "from pathlib import Path\n",
        "import time\n",
        "import warnings\n",
        "\n",
        "from matplotlib import pyplot as plt\n",
        "import numpy as np\n",
        "import pandas as pd\n",
        "import scipy.stats"
      ],
      "execution_count": null,
      "outputs": []
    },
    {
      "cell_type": "markdown",
      "metadata": {
        "id": "dswjjYIt4_6Y"
      },
      "source": [
        "-------------------------------------------\n",
        "## Linclab plot utilities"
      ]
    },
    {
      "cell_type": "code",
      "metadata": {
        "id": "h4tBcCeIkyan",
        "cellView": "form"
      },
      "source": [
        "# @title Git clone linclab_utils from GitHub\n",
        "# @markdown `!git clone https://github.com/linclab/linclab_utils.git`\n",
        "# https://github.com/linclab/linclab_utils/blob/main/plot_utils.py\n",
        "from pathlib import Path\n",
        "if not Path(\"linclab_utils\").exists():\n",
        "    !git clone https://github.com/linclab/linclab_utils.git --quiet"
      ],
      "execution_count": null,
      "outputs": []
    },
    {
      "cell_type": "code",
      "metadata": {
        "id": "G1sS6xqemsyb"
      },
      "source": [
        "from linclab_utils import plot_utils"
      ],
      "execution_count": null,
      "outputs": []
    },
    {
      "cell_type": "code",
      "metadata": {
        "id": "eGONhQ7yYsfd"
      },
      "source": [
        "fig, ax = plt.subplots()\n",
        "ax.plot(np.arange(20))\n",
        "_ = ax.set_title(\"Example plot\")"
      ],
      "execution_count": null,
      "outputs": []
    },
    {
      "cell_type": "code",
      "metadata": {
        "id": "j-rWu6J-ma6_",
        "cellView": "form"
      },
      "source": [
        "# @title Load linclab plotting settings\n",
        "# @markdown `plot_utils.linclab_plt_defaults()`\n",
        "\n",
        "# @markdown `plot_utils.linclab_plt_defaults(font=\"Arial\", \"fonts\")`\n",
        "\n",
        "# download fonts from google drive folder...\n",
        "!wget 'https://docs.google.com/uc?export=download&id=1eyf90hWNMXX5VezGPhlUZ-DwC2kv1noq' -O fonts.tar.gz --quiet\n",
        "!tar -xzf fonts.tar.gz fonts\n",
        "!\\rm fonts.tar.gz\n",
        "\n",
        "plot_utils.linclab_plt_defaults(font=\"Arial\", fontdir=\"fonts\")"
      ],
      "execution_count": null,
      "outputs": []
    },
    {
      "cell_type": "code",
      "metadata": {
        "id": "U0EO5w2qYvfR"
      },
      "source": [
        "fig, ax = plt.subplots()\n",
        "ax.plot(np.arange(20))\n",
        "_ = ax.set_title(\"Example plot\")"
      ],
      "execution_count": null,
      "outputs": []
    },
    {
      "cell_type": "markdown",
      "metadata": {
        "id": "aFyVFmIccghK"
      },
      "source": [
        "-----------------------------------------------------\n",
        "## Named tuples for storing analysis parameters\n",
        "- Well-defined attributes\n",
        "- Immutable"
      ]
    },
    {
      "cell_type": "code",
      "metadata": {
        "id": "I6FK_0EKcknO"
      },
      "source": [
        "from collections import namedtuple"
      ],
      "execution_count": null,
      "outputs": []
    },
    {
      "cell_type": "code",
      "metadata": {
        "id": "YIZkS9MoWJrO",
        "cellView": "form"
      },
      "source": [
        "# @title Function for initializing analysis parameter namedtuple\n",
        "# @markdown `analysis_params = init_analysis_params(win_size=5, stat=\"mean\", error=\"SEM\", seed=None)`\n",
        "\n",
        "def init_analysis_params(win_size=5, stat=\"mean\", error=\"SEM\", seed=None):\n",
        "    \"\"\"\n",
        "    Returns a analysis_params namedtuple with the inputs arguments as named \n",
        "    attributes.\n",
        "\n",
        "    Optional args:\n",
        "        - win_size (int):\n",
        "            window size\n",
        "            default: 5\n",
        "        - stat (str): \n",
        "            statistic parameter (\"mean\" or \"median\")\n",
        "            default: \"mean\"\n",
        "        - error (str): \n",
        "            error statistic parameter (\"std\" or \"SEM\")\n",
        "            default: \"sem\"\n",
        "        - seed (int or None):\n",
        "            random seed\n",
        "            default: None\n",
        "\n",
        "    Returns:\n",
        "        - analysis_params (analysis_params namedtuple): \n",
        "            analysis_params with input arguments as attributes\n",
        "    \"\"\"\n",
        "\n",
        "    values = [win_size, stat, error, seed]\n",
        "    attributes = [\"win_size\", \"stat\", \"error\", \"seed\"]\n",
        "\n",
        "    AnalysisParams  = namedtuple(\"analysis_params\", attributes)\n",
        "    analysis_params = AnalysisParams(*values)\n",
        "\n",
        "    if stat == \"median\" and error.lower() in [\"sem\", \"std\"]:\n",
        "        warnings.warn(\n",
        "            \"\\n\\nIn real life, of course, medians should NOT be paired with \"\n",
        "            \"standard deviations or standard errors, but with related robust \"\n",
        "            \"error metrics like IQRs and/or MADs.\\n\")\n",
        "\n",
        "    return analysis_params\n",
        "  "
      ],
      "execution_count": null,
      "outputs": []
    },
    {
      "cell_type": "code",
      "metadata": {
        "id": "fwHXooYRv81S"
      },
      "source": [
        "AnalysisParams = namedtuple(\"AnalysisParams\", [\"win_size\", \"stat\", \"error\", \"seed\"])\n",
        "analysis_params = AnalysisParams(5, \"mean\", \"SEM\", 45)\n",
        "\n",
        "analysis_params = init_analysis_params(\n",
        "    win_size=5,\n",
        "    stat=\"mean\", \n",
        "    error=\"SEM\", \n",
        "    seed=45, \n",
        "    )\n",
        "\n",
        "analysis_params.stat\n",
        "# analysis_params.error = \"std\""
      ],
      "execution_count": null,
      "outputs": []
    },
    {
      "cell_type": "code",
      "metadata": {
        "id": "YHet0Di_kR_K",
        "cellView": "form"
      },
      "source": [
        "# @title Function for defining save paths\n",
        "# @markdown `save_path = get_save_path(analysis_params, save_type=\"data\")`\n",
        "\n",
        "def get_save_path(analysis_params, save_type=\"data\"):\n",
        "\n",
        "    if isinstance(analysis_params, dict):\n",
        "        analysis_params = init_analysis_params(**analysis_params)\n",
        "\n",
        "    save_path = f\"elaborate_win{analysis_params.win_size}_{analysis_params.stat}_{analysis_params.error.lower()}\"\n",
        "    if analysis_params.seed is not None:\n",
        "        save_path = f\"{save_path}_seed{analysis_params.seed}\"\n",
        "\n",
        "    if save_type == \"data\":\n",
        "        save_path = f\"{save_path}.json\"\n",
        "    elif save_type == \"fig\":\n",
        "        save_path = f\"{save_path}.svg\"\n",
        "    else:\n",
        "        raise ValueError(f\"save_path={save_path}, but expected 'data' or 'fig'.\")\n",
        "\n",
        "    return Path(save_path)\n"
      ],
      "execution_count": null,
      "outputs": []
    },
    {
      "cell_type": "markdown",
      "metadata": {
        "id": "ZP3HQ41rcpoV"
      },
      "source": [
        "## Analysis function"
      ]
    },
    {
      "cell_type": "code",
      "metadata": {
        "id": "XW3Q2SMaXHil",
        "cellView": "form"
      },
      "source": [
        "# @title Function for elaborately producing complex data dataframe\n",
        "# @markdown `df = complex_elaborate_analysis_fct(source_data, analysis_params, wait=45)`\n",
        "\n",
        "def complex_elaborate_analysis_fct(source_data, analysis_params, wait=45):\n",
        "    rst = np.random.RandomState(analysis_params.seed)\n",
        "\n",
        "    # elaborate computation\n",
        "    time.sleep(wait)\n",
        "\n",
        "    data_types = [\n",
        "        \"trampoline prices\", \"learning rate\", \"broth density\", \"resonance\", \n",
        "        \"advanced metric\"\n",
        "        ]\n",
        "    df = pd.DataFrame(columns=data_types)\n",
        "\n",
        "    win_size = int(analysis_params.win_size)\n",
        "\n",
        "    if source_data is None:\n",
        "        # get a cosine-like base function\n",
        "        n_pts = 20\n",
        "        x_uniform = np.linspace(0, np.pi * 3, n_pts)\n",
        "        y_uniform = np.sin(x_uniform) * 2\n",
        "        x = np.sort(rst.random(n_pts)) * np.pi * 3\n",
        "        source_data = np.interp(x, x_uniform, y_uniform)\n",
        "    else:\n",
        "        n_pts = len(source_data)\n",
        "\n",
        "    prev = source_data\n",
        "    for data_type in data_types:\n",
        "        relatedness = rst.random(1)\n",
        "        data = rst.random(n_pts) * 1.5\n",
        "        if rst.random(1) > 0.5:\n",
        "            prev = -prev\n",
        "        data = data + prev * relatedness\n",
        "        prev = data\n",
        "        # window data\n",
        "        df[data_type] = np.convolve(\n",
        "            data, np.ones(win_size)/win_size, mode=\"valid\"\n",
        "            )\n",
        "                \n",
        "    # take statistics\n",
        "    all_data = df.to_numpy()\n",
        "    if analysis_params.stat == \"mean\":\n",
        "        stat = np.mean(all_data, axis=1)\n",
        "    elif analysis_params.stat == \"median\":\n",
        "        stat = np.median(all_data, axis=1)\n",
        "    else:\n",
        "      raise ValueError(f\"statpar.stat={statpar.stat}, but expected 'mean' or 'median'.\")\n",
        "\n",
        "    if analysis_params.error.lower() == \"std\":\n",
        "        error = np.std(all_data, axis=1)\n",
        "    elif analysis_params.error.lower() == \"sem\":\n",
        "        error = scipy.stats.sem(all_data, axis=1)\n",
        "    else:\n",
        "      raise ValueError(f\"statpar.error={statpar.error}, but expected 'std' or 'SEM'.\")\n",
        "\n",
        "    df[\"stat\"] = stat\n",
        "    df[\"error\"] = error\n",
        "\n",
        "    return df"
      ],
      "execution_count": null,
      "outputs": []
    },
    {
      "cell_type": "markdown",
      "metadata": {
        "id": "WH4vZH90c2GB"
      },
      "source": [
        "-----------------------------------------------------\n",
        "# Toy example"
      ]
    },
    {
      "cell_type": "markdown",
      "metadata": {
        "id": "OFk8lUDs5FhE"
      },
      "source": [
        "## Initialize hyperparameters"
      ]
    },
    {
      "cell_type": "code",
      "metadata": {
        "id": "XIjMwM3e5KPe"
      },
      "source": [
        "analysis_params = init_analysis_params(win_size=5, stat=\"mean\", error=\"SEM\", seed=45)"
      ],
      "execution_count": null,
      "outputs": []
    },
    {
      "cell_type": "markdown",
      "metadata": {
        "id": "HFbZ3rAhisOh"
      },
      "source": [
        "## Run analysis"
      ]
    },
    {
      "cell_type": "code",
      "metadata": {
        "id": "49-X4WfeXBok"
      },
      "source": [
        "data_df = complex_elaborate_analysis_fct(source_data=None, analysis_params=analysis_params)\n",
        "data_df.head()"
      ],
      "execution_count": null,
      "outputs": []
    },
    {
      "cell_type": "markdown",
      "metadata": {
        "id": "Ok8wjRnbiw1W"
      },
      "source": [
        "## Save analysis results and parameters"
      ]
    },
    {
      "cell_type": "code",
      "metadata": {
        "id": "IXj-7lGfiztj"
      },
      "source": [
        "save_path = get_save_path(analysis_params, save_type=\"data\")\n",
        "print(save_path)"
      ],
      "execution_count": null,
      "outputs": []
    },
    {
      "cell_type": "code",
      "metadata": {
        "id": "jzyFwCwnc8po"
      },
      "source": [
        "import json\n",
        "\n",
        "save_info = {\n",
        "    \"analysis_params\": analysis_params._asdict(), # save as dictionary\n",
        "    \"data_df\" : data_df.to_dict(), # save as dictionary\n",
        "}\n",
        "\n",
        "with open(save_path, \"w\") as f:\n",
        "    json.dump(save_info, f)"
      ],
      "execution_count": null,
      "outputs": []
    },
    {
      "cell_type": "markdown",
      "metadata": {
        "id": "r337ZeIyjGhF"
      },
      "source": [
        "## Plot from saved data\n",
        "- Have your plot function take saved file keys as input, for convenience.\n",
        "- Use object-oriented plotting."
      ]
    },
    {
      "cell_type": "code",
      "metadata": {
        "id": "dQLgN3UBfmk0",
        "cellView": "form"
      },
      "source": [
        "# @title Function for plotting from elaborate data dataframe\n",
        "# @markdown `fig = plot_complex_elaborate_data_df(analysis_params, data_df, save=True)`\n",
        "\n",
        "MARKERS = [\"X\", \"o\", \"^\", \"d\", \"s\", \"h\"]\n",
        "CMAP = plot_utils.linclab_colormap(no_white=True)\n",
        "\n",
        "def plot_complex_elaborate_data_df(analysis_params, data_df, save=True):\n",
        "\n",
        "    # reload dictionaries into original objects, if needed\n",
        "    if isinstance(data_df, dict):\n",
        "        data_df = pd.DataFrame.from_dict(data_df) \n",
        "    if isinstance(analysis_params, dict):\n",
        "        analysis_params = init_analysis_params(**analysis_params)\n",
        "\n",
        "    fig, ax = plt.subplots(1, figsize=[15, 9])\n",
        "    n_cols = len(data_df.columns) - 2\n",
        "    colors = CMAP(np.linspace(0, 1, n_cols))\n",
        "\n",
        "    markersize = 16\n",
        "    c = 0\n",
        "    for d, data_type in enumerate(data_df.columns):\n",
        "        marker = MARKERS[d % len(MARKERS)]\n",
        "\n",
        "        if data_type not in [\"stat\", \"error\"]:\n",
        "            ax.plot(\n",
        "                data_df[data_type], \n",
        "                label=data_type.capitalize(), # legend label\n",
        "                marker=marker, \n",
        "                markersize=markersize, \n",
        "                alpha=0.5, # transparency\n",
        "                color=colors[c], \n",
        "                lw=5 # linewidth\n",
        "                )\n",
        "            c += 1\n",
        "\n",
        "        elif data_type == \"stat\":\n",
        "            stat = data_df[data_type]\n",
        "            err = data_df[\"error\"]\n",
        "            x = np.arange(len(stat))\n",
        "            \n",
        "            # create a legend label\n",
        "            label = u\"{} {} {}\".format(\n",
        "                analysis_params.stat, \n",
        "                u\"\\u00B1\", \n",
        "                analysis_params.error\n",
        "                )\n",
        "            if analysis_params.stat == \"median\":\n",
        "                label = u\"{} (!?)\".format(label)\n",
        "            \n",
        "            # plot statistic as a line\n",
        "            line = ax.plot(\n",
        "                stat, \n",
        "                label=label.capitalize(), # legend label\n",
        "                marker=marker, \n",
        "                markersize=markersize,\n",
        "                alpha=0.7, # transparency\n",
        "                color=\"black\",\n",
        "                lw=7, # linewidth\n",
        "                )\n",
        "            \n",
        "            # plot shading for error\n",
        "            ax.fill_between(\n",
        "                x, \n",
        "                y1=stat - err, \n",
        "                y2=stat + err, \n",
        "                color=line[-1].get_color(), # just use same color as statistic line\n",
        "                alpha=0.3 # transparency\n",
        "                )\n",
        "            \n",
        "    # create the title from the parameters\n",
        "    seed_str = \"\"\n",
        "    if analysis_params.seed is not None:\n",
        "      seed_str = f\", seed={analysis_params.seed}\"\n",
        "    title = (f\"Complex and elaborate data analysis results \"\n",
        "      f\"(win={analysis_params.win_size}{seed_str})\")\n",
        "\n",
        "    # increase the upper y limit\n",
        "    ylims = ax.get_ylim()\n",
        "    ax.set_ylim([ylims[0], ylims[1] * 1.3])\n",
        "\n",
        "    # adjust the plot\n",
        "    ax.legend(fontsize=\"large\") # bigger legend text\n",
        "    ax.set_title(title, y=1.1, fontsize=\"xx-large\") # larger title\n",
        "    ax.set_xlabel(\"Fortnights\") # x axis label\n",
        "    ax.set_ylabel(\"A.U.\") # y axis label\n",
        "    \n",
        "\n",
        "    if save:\n",
        "        save_path = get_save_path(analysis_params, save_type=\"fig\")\n",
        "        fig.savefig(\n",
        "            save_path,\n",
        "            transparent=False # save with opaque background\n",
        "            )\n",
        "\n",
        "    return fig, ax"
      ],
      "execution_count": null,
      "outputs": []
    },
    {
      "cell_type": "code",
      "metadata": {
        "id": "YLmTS_mxdzbv"
      },
      "source": [
        "save_path = get_save_path(analysis_params, save_type=\"data\")\n",
        "with open(save_path, \"r\") as f:\n",
        "    save_info = json.load(f)\n",
        "\n",
        "fig, ax = plot_complex_elaborate_data_df(save=True, **save_info)"
      ],
      "execution_count": null,
      "outputs": []
    },
    {
      "cell_type": "markdown",
      "metadata": {
        "id": "HXIgE2OYXyfG"
      },
      "source": [
        "### Examples of additional modifications to the plot\n",
        "- Many of these changes can be implemented by modifying the default parameter settings for pyplot.\n",
        "- Although the linclab default settings tend to produce reasonable plot sizes, this plot is very large, so we will increase them further."
      ]
    },
    {
      "cell_type": "code",
      "metadata": {
        "id": "5RnakUoXXxTG"
      },
      "source": [
        "overwrite_fig = True\n",
        "\n",
        "spine_tick_lw = 4\n",
        "label_fs = 20\n",
        "legend_fs = 14\n",
        "\n",
        "# general\n",
        "ax.set_title(\"\") # remove the title\n",
        "ax.spines[\"left\"].set_linewidth(spine_tick_lw) # make the lines thicker\n",
        "ax.spines[\"bottom\"].set_linewidth(spine_tick_lw)\n",
        "\n",
        "# legend\n",
        "ax.legend(frameon=False, fontsize=legend_fs, prop={\"weight\": \"bold\"})\n",
        "\n",
        "# y axis\n",
        "ax.set_ylabel(ax.get_ylabel(), fontweight=\"bold\", fontsize=label_fs)\n",
        "ax.set_yticklabels(ax.get_yticklabels(), weight=\"bold\", fontsize=label_fs)\n",
        "ax.yaxis.set_tick_params(width=spine_tick_lw)\n",
        "\n",
        "# x axis\n",
        "ax.set_xlabel(ax.get_xlabel(), fontweight=\"bold\", fontsize=label_fs)\n",
        "ax.set_xticklabels(ax.get_xticklabels(), weight=\"bold\", fontsize=label_fs)\n",
        "ax.xaxis.set_tick_params(width=spine_tick_lw)\n",
        "\n",
        "if overwrite_fig: # save this new copy of the figure\n",
        "    save_path = get_save_path(analysis_params, save_type=\"fig\")\n",
        "    fig.savefig(\n",
        "        save_path,\n",
        "        transparent=False # save with opaque background\n",
        "        )\n",
        "\n",
        "fig"
      ],
      "execution_count": null,
      "outputs": []
    },
    {
      "cell_type": "markdown",
      "metadata": {
        "id": "e79duf4V42rO"
      },
      "source": [
        "# Summary"
      ]
    },
    {
      "cell_type": "markdown",
      "metadata": {
        "id": "xYtRTOOM3pS0"
      },
      "source": [
        "### Advantages\n",
        "- **Reliability:** Saving data and parameters ensures that **you know** and can **verify** exactly what you've plotted, both in terms of actual data, and the parameters involved in generating the data.\n",
        "- **Consistency:** Using objects like named tuples ensures consistency across different version of the same analysis, as well as automatic plot labelling and generation of save paths.\n",
        "- **Efficiency:** Plotting from saved files enables rapid iteration on and mass updating of plots."
      ]
    },
    {
      "cell_type": "markdown",
      "metadata": {
        "id": "U35bILEZ2n1i"
      },
      "source": [
        "### Caveats\n",
        "- **Extra work:** Using objects like named tuples can be more work up front. Really pays off when there are many consistent mutable parameters to keep track of. \n",
        "- **Data saving challenges:** Json files are convenient, since they are much more compact than yaml files, and readable with a standard text editor, unlike pickles. However, data saving can be very finnicky with json. This is compounded when using dataframes converted to dictionaries, which can easily contain stray numpy arrays or datatypes that are not json serializable.\n"
      ]
    },
    {
      "cell_type": "code",
      "metadata": {
        "id": "m7tNGaOxrB48"
      },
      "source": [
        ""
      ],
      "execution_count": null,
      "outputs": []
    }
  ]
}
